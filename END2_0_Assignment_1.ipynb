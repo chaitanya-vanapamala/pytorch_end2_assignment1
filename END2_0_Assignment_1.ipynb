{
 "cells": [
  {
   "cell_type": "code",
   "execution_count": 1,
   "metadata": {
    "colab": {
     "base_uri": "https://localhost:8080/"
    },
    "id": "GC_6PeobwwkH",
    "outputId": "b3388ede-bc71-4372-fd7a-0afe936f2fc9"
   },
   "outputs": [
    {
     "data": {
      "text/plain": [
       "<torch._C.Generator at 0x7f6115f118f0>"
      ]
     },
     "execution_count": 1,
     "metadata": {
      "tags": []
     },
     "output_type": "execute_result"
    }
   ],
   "source": [
    "import torch\n",
    "from torch.autograd import Variable\n",
    "import torch.nn as nn\n",
    "import torch.nn.functional as F\n",
    "import torch.optim as optim\n",
    "import numpy as np\n",
    "import matplotlib.pyplot as plt\n",
    "%matplotlib inline\n",
    "torch.manual_seed(2)"
   ]
  },
  {
   "cell_type": "code",
   "execution_count": 2,
   "metadata": {
    "id": "bL64bMTkw2GP"
   },
   "outputs": [],
   "source": [
    "X = torch.Tensor([[0,0], [0,1], [1,0], [1,1]])\n",
    "Y = torch.Tensor([0, 1, 1, 0]).view(-1,1)"
   ]
  },
  {
   "cell_type": "code",
   "execution_count": 3,
   "metadata": {
    "id": "aC82kEAIw3Wf"
   },
   "outputs": [],
   "source": [
    "class XOR(nn.Module):\n",
    "    def __init__(self, input_dim = 2, output_dim=1):\n",
    "        super(XOR, self).__init__()\n",
    "        self.lin1 = nn.Linear(input_dim, 5)\n",
    "        self.lin2 = nn.Linear(5, 4)\n",
    "        self.lin3 = nn.Linear(4, output_dim)\n",
    "    \n",
    "    def forward(self, x):\n",
    "        x = self.lin1(x)\n",
    "        x = F.tanh(x)\n",
    "        x = self.lin2(x)\n",
    "        x = F.tanh(x)\n",
    "        x = self.lin3(x)\n",
    "        return x"
   ]
  },
  {
   "cell_type": "code",
   "execution_count": 4,
   "metadata": {
    "colab": {
     "base_uri": "https://localhost:8080/"
    },
    "id": "8gQIQExYw65K",
    "outputId": "f04c8dec-b4d9-4332-ddf9-bbae2313d7cd"
   },
   "outputs": [
    {
     "name": "stdout",
     "output_type": "stream",
     "text": [
      "XOR(\n",
      "  (lin1): Linear(in_features=2, out_features=5, bias=True)\n",
      "  (lin2): Linear(in_features=5, out_features=4, bias=True)\n",
      "  (lin3): Linear(in_features=4, out_features=1, bias=True)\n",
      ")\n",
      "----------------------------------------------------------------\n",
      "        Layer (type)               Output Shape         Param #\n",
      "================================================================\n",
      "            Linear-1                 [-1, 2, 5]              15\n",
      "            Linear-2                 [-1, 2, 4]              24\n",
      "            Linear-3                 [-1, 2, 1]               5\n",
      "================================================================\n",
      "Total params: 44\n",
      "Trainable params: 44\n",
      "Non-trainable params: 0\n",
      "----------------------------------------------------------------\n",
      "Input size (MB): 0.00\n",
      "Forward/backward pass size (MB): 0.00\n",
      "Params size (MB): 0.00\n",
      "Estimated Total Size (MB): 0.00\n",
      "----------------------------------------------------------------\n"
     ]
    },
    {
     "name": "stderr",
     "output_type": "stream",
     "text": [
      "/usr/local/lib/python3.7/dist-packages/torch/nn/functional.py:1698: UserWarning: nn.functional.tanh is deprecated. Use torch.tanh instead.\n",
      "  warnings.warn(\"nn.functional.tanh is deprecated. Use torch.tanh instead.\")\n"
     ]
    }
   ],
   "source": [
    "model = XOR()\n",
    "print(model)\n",
    "from torchsummary import summary\n",
    "summary(model, (2,2))"
   ]
  },
  {
   "cell_type": "code",
   "execution_count": 5,
   "metadata": {
    "id": "yeotEq19x6XF"
   },
   "outputs": [],
   "source": [
    "def weights_init(model):\n",
    "    for m in model.modules():\n",
    "        if isinstance(m, nn.Linear):\n",
    "            # initialize the weight tensor, here we use a normal distribution\n",
    "            m.weight.data.normal_(0, 1)\n",
    "\n",
    "weights_init(model)"
   ]
  },
  {
   "cell_type": "code",
   "execution_count": 6,
   "metadata": {
    "id": "WrD_sNzLx78e"
   },
   "outputs": [],
   "source": [
    "loss_func = nn.L1Loss()"
   ]
  },
  {
   "cell_type": "code",
   "execution_count": 7,
   "metadata": {
    "id": "-zvbrMd2x_lA"
   },
   "outputs": [],
   "source": [
    "optimizer = optim.SGD(model.parameters(), lr=0.02, momentum=0.9)"
   ]
  },
  {
   "cell_type": "code",
   "execution_count": 8,
   "metadata": {
    "colab": {
     "base_uri": "https://localhost:8080/"
    },
    "id": "q7tWa3D7yA5X",
    "outputId": "d67eea52-3922-4ea9-ac22-7b3b21227903"
   },
   "outputs": [
    {
     "name": "stderr",
     "output_type": "stream",
     "text": [
      "/usr/local/lib/python3.7/dist-packages/torch/nn/functional.py:1698: UserWarning: nn.functional.tanh is deprecated. Use torch.tanh instead.\n",
      "  warnings.warn(\"nn.functional.tanh is deprecated. Use torch.tanh instead.\")\n"
     ]
    },
    {
     "name": "stdout",
     "output_type": "stream",
     "text": [
      "Epoch: 0, Loss: 1.8139175176620483, \n",
      "Epoch: 100, Loss: 0.27631211280822754, \n",
      "Epoch: 200, Loss: 0.0851086974143982, \n",
      "Epoch: 300, Loss: 0.06543529033660889, \n",
      "Epoch: 400, Loss: 0.016359925270080566, \n",
      "Epoch: 500, Loss: 0.12649130821228027, \n",
      "Epoch: 600, Loss: 0.7316442728042603, \n",
      "Epoch: 700, Loss: 0.3753732442855835, \n",
      "Epoch: 800, Loss: 0.07015347480773926, \n",
      "Epoch: 900, Loss: 0.05196887254714966, \n",
      "Epoch: 1000, Loss: 0.8446765542030334, \n",
      "Epoch: 1100, Loss: 0.0035240650177001953, \n",
      "Epoch: 1200, Loss: 0.8871856331825256, \n",
      "Epoch: 1300, Loss: 0.024596571922302246, \n",
      "Epoch: 1400, Loss: 0.20663106441497803, \n",
      "Epoch: 1500, Loss: 0.09505069255828857, \n",
      "Epoch: 1600, Loss: 0.005853414535522461, \n",
      "Epoch: 1700, Loss: 0.012987017631530762, \n",
      "Epoch: 1800, Loss: 0.1666015386581421, \n",
      "Epoch: 1900, Loss: 0.011563658714294434, \n",
      "Epoch: 2000, Loss: 0.0780792236328125, \n"
     ]
    }
   ],
   "source": [
    "epochs = 2001\n",
    "steps = X.size(0)\n",
    "for i in range(epochs):\n",
    "    for j in range(steps):\n",
    "        data_point = np.random.randint(X.size(0))\n",
    "        x_var = Variable(X[data_point], requires_grad=False)\n",
    "        y_var = Variable(Y[data_point], requires_grad=False)\n",
    "        \n",
    "        optimizer.zero_grad()\n",
    "        y_hat = model(x_var)\n",
    "        loss = loss_func.forward(y_hat, y_var)\n",
    "        loss.backward()\n",
    "        optimizer.step()\n",
    "         \n",
    "    if i % 100 == 0:\n",
    "        print( \"Epoch: {0}, Loss: {1}, \".format(i, loss.data.numpy()))"
   ]
  },
  {
   "cell_type": "code",
   "execution_count": 8,
   "metadata": {
    "id": "QV0dIdveyCRi"
   },
   "outputs": [],
   "source": []
  }
 ],
 "metadata": {
  "colab": {
   "collapsed_sections": [],
   "name": "Copy of END2.0 Session 1.ipynb",
   "provenance": []
  },
  "kernelspec": {
   "display_name": "Python 3",
   "language": "python",
   "name": "python3"
  },
  "language_info": {
   "codemirror_mode": {
    "name": "ipython",
    "version": 3
   },
   "file_extension": ".py",
   "mimetype": "text/x-python",
   "name": "python",
   "nbconvert_exporter": "python",
   "pygments_lexer": "ipython3",
   "version": "3.8.3"
  }
 },
 "nbformat": 4,
 "nbformat_minor": 1
}
